{
 "cells": [
  {
   "cell_type": "code",
   "execution_count": null,
   "metadata": {},
   "outputs": [],
   "source": [
    "import os"
   ]
  },
  {
   "cell_type": "code",
   "execution_count": null,
   "metadata": {},
   "outputs": [],
   "source": [
    "os.chdir('/nfs/students/summer-term-2020/project-3/src')"
   ]
  },
  {
   "cell_type": "code",
   "execution_count": null,
   "metadata": {},
   "outputs": [],
   "source": [
    "import sys\n",
    "sys.path.append(\"code/shared/\")\n",
    "sys.path.append('code/retinanet/')\n",
    "\n",
    "\n",
    "from retinanet.utils import parse_data_config\n",
    "from retinanet import csv_eval\n",
    "from retinanet.dataloader import CSVDataset, collater, Resizer, AspectRatioBasedSampler, Augmenter\n",
    "\n",
    "import torch\n",
    "from torch.autograd import Variable\n",
    "from torch.utils.data import DataLoader\n",
    "from torchvision import datasets\n",
    "from torchvision import transforms\n",
    "from torch.autograd import Variable\n"
   ]
  },
  {
   "cell_type": "code",
   "execution_count": null,
   "metadata": {},
   "outputs": [],
   "source": [
    "data_config = parse_data_config('data/retina_label/custom.data')\n",
    "test_path = data_config[\"test\"]\n",
    "print(test_path)\n",
    "class_names = data_config[\"names\"]\n",
    "\n",
    "model_path = \"checkpoints/retina/Normal-epochs10-batch4-irlv2-layers-ft4-5-bttlneck-alpha0.8-beta0.2-gamma0.01-loss-type1-noise-type-adversarial-alt0-attack-type-fgsm-eps2.0-alpha0.5/ckpt_9.pt\"\n",
    "device = torch.device(\"cuda\" if torch.cuda.is_available() else \"cpu\")\n",
    "retinanet = torch.load(model_path).to(device)\n",
    "retinanet = torch.nn.DataParallel(retinanet).to(device)\n",
    "\n",
    "print(\"Evaluating\")\n",
    "dataset = CSVDataset(train_file=test_path, class_list=class_names, transform=transforms.Compose([Resizer()]))\n",
    "AP, mAP = csv_eval.evaluate(dataset, retinanet)\n",
    "print('Normal Test Set AP: {} | mAP: {}'.format(AP, mAP))\n",
    "\n"
   ]
  },
  {
   "cell_type": "code",
   "execution_count": null,
   "metadata": {},
   "outputs": [],
   "source": [
    "\n",
    "#Already evaluted\n",
    "retina_normaltrained_cleantest='results/test-Normal-Normal-epochs100-batch8--best1.pt'\n",
    "retina_normaltrained_randnNoisetest='results/test-Randn-Normal-epochs100-batch8--best1.pt-eps16'\n",
    "retina_normaltrained_FGSMNoisetest='results/test-FGSM-Normal-epochs100-batch8--best1.pt-eps2'\n",
    "retina_FGSMtrained_FGSMNoisetest='results/retina-test-FGSM-FGSM-epochs15-batch8-eps2-mix_thres0.5--ckpt_14.pt-eps2'\n",
    "# To be evaluted\n",
    "retina_FGSMtrained_cleanteset='results/retina-test-Normal-FGSM-epochs15-batch8-eps2-mix_thres0.5--ckpt_14.pt-eps2'\n",
    "retina_FGSMtrained_randnNoisetest='results/retina-test-Randn-FGSM-epochs15-batch8-eps2-mix_thres0.5--ckpt_14.pt-eps16'\n",
    "retina_irl1 = 'results/retina-test-FGSM-Normal-epochs10-batch4-irlv2-layers-ft4-5-bttlneck-alpha0.8-beta0.2-gamma0.01-loss-type1-noise-type-adversarial-alt0-attack-type-fgsm-eps2.0-alpha0.5--ckpt_9.pt-eps2'"
   ]
  },
  {
   "cell_type": "code",
   "execution_count": null,
   "metadata": {},
   "outputs": [],
   "source": [
    "from evaluate.test import evaluate_test\n",
    "\n",
    "# if detect_mode=True, mAP is not computed but batch statistics (TP, biou and misclassifications) are.\n",
    "\n",
    "temp = 'results/test-FGSM-Normal-epochs10-batch4-irlv2-layers-ft4-5-bttlneck-alpha0.8-beta0.2-gamma0.01-loss-type1-noise-type-adversarial-alt0-attack-type-fgsm-eps2.0-alpha0.5--ckpt_9.pt-eps2'\n",
    "print(temp)\n",
    "#evaluate_test(temp)\n",
    "\n",
    "\n"
   ]
  },
  {
   "cell_type": "code",
   "execution_count": 9,
   "metadata": {},
   "outputs": [
    {
     "name": "stderr",
     "output_type": "stream",
     "text": [
      "\r",
      "Computing batch statistics:   0%|          | 0/525 [00:00<?, ?it/s]"
     ]
    },
    {
     "name": "stdout",
     "output_type": "stream",
     "text": [
      "Compute mAP...\n"
     ]
    },
    {
     "name": "stderr",
     "output_type": "stream",
     "text": [
      "Computing batch statistics: 100%|██████████| 525/525 [00:30<00:00, 16.96it/s]\n",
      "Computing AP: 100%|██████████| 10/10 [00:00<00:00, 32.02it/s]"
     ]
    },
    {
     "name": "stdout",
     "output_type": "stream",
     "text": [
      "Average Precisions:\n",
      "+ Class '0' (bike) - AP: 0.2669801024464682\n",
      "+ Class '1' (bus) - AP: 0.44579768790223717\n",
      "+ Class '2' (car) - AP: 0.41831032276951463\n",
      "+ Class '3' (motor) - AP: 0.21847249362691692\n",
      "+ Class '4' (person) - AP: 0.24322988583802266\n",
      "+ Class '5' (rider) - AP: 0.27859303966066273\n",
      "+ Class '6' (traffic light) - AP: 0.032060111472883984\n",
      "+ Class '7' (traffic sign) - AP: 0.095623714341711\n",
      "+ Class '8' (train) - AP: 0.0\n",
      "+ Class '9' (truck) - AP: 0.4322494205014575\n",
      "mAP: 0.24313167785598747\n"
     ]
    },
    {
     "name": "stderr",
     "output_type": "stream",
     "text": [
      "\n"
     ]
    }
   ],
   "source": [
    "evaluate_test(retina_normaltrained_cleantest)"
   ]
  },
  {
   "cell_type": "code",
   "execution_count": 10,
   "metadata": {},
   "outputs": [
    {
     "name": "stderr",
     "output_type": "stream",
     "text": [
      "\r",
      "Computing batch statistics:   0%|          | 0/525 [00:00<?, ?it/s]"
     ]
    },
    {
     "name": "stdout",
     "output_type": "stream",
     "text": [
      "Compute mAP...\n"
     ]
    },
    {
     "name": "stderr",
     "output_type": "stream",
     "text": [
      "Computing batch statistics: 100%|██████████| 525/525 [00:47<00:00, 11.03it/s]\n",
      "Computing AP: 100%|██████████| 10/10 [00:00<00:00, 29.18it/s]"
     ]
    },
    {
     "name": "stdout",
     "output_type": "stream",
     "text": [
      "Average Precisions:\n",
      "+ Class '0' (bike) - AP: 0.18911641457113806\n",
      "+ Class '1' (bus) - AP: 0.38788752447261443\n",
      "+ Class '2' (car) - AP: 0.40863718240851005\n",
      "+ Class '3' (motor) - AP: 0.13774565243915132\n",
      "+ Class '4' (person) - AP: 0.21228139048604394\n",
      "+ Class '5' (rider) - AP: 0.23373007433974263\n",
      "+ Class '6' (traffic light) - AP: 0.028468280289662026\n",
      "+ Class '7' (traffic sign) - AP: 0.08830762760158573\n",
      "+ Class '8' (train) - AP: 0.0\n",
      "+ Class '9' (truck) - AP: 0.41802967224383086\n",
      "mAP: 0.21042038188522788\n"
     ]
    },
    {
     "name": "stderr",
     "output_type": "stream",
     "text": [
      "\n"
     ]
    }
   ],
   "source": [
    "evaluate_test(retina_normaltrained_randnNoisetest)"
   ]
  },
  {
   "cell_type": "code",
   "execution_count": 11,
   "metadata": {},
   "outputs": [
    {
     "name": "stderr",
     "output_type": "stream",
     "text": [
      "\r",
      "Computing batch statistics:   0%|          | 0/525 [00:00<?, ?it/s]"
     ]
    },
    {
     "name": "stdout",
     "output_type": "stream",
     "text": [
      "Compute mAP...\n"
     ]
    },
    {
     "name": "stderr",
     "output_type": "stream",
     "text": [
      "Computing batch statistics: 100%|██████████| 525/525 [02:04<00:00,  4.20it/s]\n",
      "Computing AP: 100%|██████████| 10/10 [00:02<00:00,  4.76it/s]"
     ]
    },
    {
     "name": "stdout",
     "output_type": "stream",
     "text": [
      "Average Precisions:\n",
      "+ Class '0' (bike) - AP: 0.017426319794381823\n",
      "+ Class '1' (bus) - AP: 0.08293524648779127\n",
      "+ Class '2' (car) - AP: 0.17324310105159538\n",
      "+ Class '3' (motor) - AP: 0.006476208598120443\n",
      "+ Class '4' (person) - AP: 0.024012796279079804\n",
      "+ Class '5' (rider) - AP: 0.014613697485916835\n",
      "+ Class '6' (traffic light) - AP: 0.001954045077834506\n",
      "+ Class '7' (traffic sign) - AP: 0.009723970018381137\n",
      "+ Class '8' (train) - AP: 0.0\n",
      "+ Class '9' (truck) - AP: 0.07036443425166888\n",
      "mAP: 0.04007498190447701\n"
     ]
    },
    {
     "name": "stderr",
     "output_type": "stream",
     "text": [
      "\n"
     ]
    }
   ],
   "source": [
    "evaluate_test(retina_normaltrained_FGSMNoisetest)"
   ]
  }
 ],
 "metadata": {
  "kernelspec": {
   "display_name": "Python 3",
   "language": "python",
   "name": "python3"
  },
  "language_info": {
   "codemirror_mode": {
    "name": "ipython",
    "version": 3
   },
   "file_extension": ".py",
   "mimetype": "text/x-python",
   "name": "python",
   "nbconvert_exporter": "python",
   "pygments_lexer": "ipython3",
   "version": "3.7.7"
  }
 },
 "nbformat": 4,
 "nbformat_minor": 4
}
