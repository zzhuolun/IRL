{
 "cells": [
  {
   "cell_type": "code",
   "execution_count": 1,
   "metadata": {},
   "outputs": [],
   "source": [
    "import os\n",
    "import torch"
   ]
  },
  {
   "cell_type": "code",
   "execution_count": 2,
   "metadata": {
    "scrolled": true
   },
   "outputs": [],
   "source": [
    "os.chdir('/nfs/students/summer-term-2020/project-3/src')"
   ]
  },
  {
   "cell_type": "code",
   "execution_count": null,
   "metadata": {
    "scrolled": false
   },
   "outputs": [
    {
     "name": "stdout",
     "output_type": "stream",
     "text": [
      "Namespace(adv_loss_type='total', alpha=2.0, attack_type='PGD', checkpoint_model=None, class_path='data2/classes.names', conf_thres=0.8, eps=1.0, img_size=608, iterations=20, model_def='code/YOLOv3/config/yolov3-custom.cfg', n_cpu=0, nms_thres=0.5, samples_path='data2/custom_samples.txt', weights_path='code/YOLOv3/checkpoints_best19/yolov3_ckpt_19.pth')\n",
      "Found device:  cuda\n",
      "\n",
      "Performing object detection:\n",
      "> /nfs/students/summer-term-2020/project-3/src/code/YOLOv3/attack_and_detect.py(137)<module>()\n",
      "-> img = transforms.ToPILImage()(input_imgs.squeeze().detach().cpu()).convert(\"RGB\")\n",
      "(Pdb) "
     ]
    }
   ],
   "source": [
    "!python code/YOLOv3/attack_and_detect.py --weights_path code/YOLOv3/checkpoints_best19/yolov3_ckpt_19.pth \\\n",
    "                                    --model_def code/YOLOv3/config/yolov3-custom.cfg \\\n",
    "                                    --class_path data2/classes.names \\\n",
    "                                    --img_size 608 \\\n",
    "                                    --conf_thres 0.8 \\\n",
    "                                    --attack_type PGD \\\n",
    "                                    --eps 1 \\\n",
    "                                    --adv_loss_type total \\\n",
    "                                    --alpha 2.0 \\\n",
    "                                    --iterations 20"
   ]
  },
  {
   "cell_type": "code",
   "execution_count": null,
   "metadata": {},
   "outputs": [],
   "source": [
    "os.chdir('/nfs/students/summer-term-2020/project-3/src/YOLOv3/output/')"
   ]
  },
  {
   "cell_type": "code",
   "execution_count": null,
   "metadata": {},
   "outputs": [],
   "source": [
    "from PIL import Image\n",
    "import matplotlib.pyplot as plt\n",
    "import numpy as np\n",
    "\n",
    "files = os.listdir()\n",
    "images = [image for image in files if image.endswith('.png')]\n",
    "\n",
    "for im_name in images:\n",
    "    print(im_name)\n",
    "    img = Image.open(im_name)\n",
    "    plt.figure()\n",
    "    fig, ax = plt.subplots(1)\n",
    "    ax.imshow(np.asarray(img), aspect='auto')"
   ]
  },
  {
   "cell_type": "code",
   "execution_count": null,
   "metadata": {},
   "outputs": [],
   "source": [
    "stats = [stat for stat in files if stat.endswith('.npy')]"
   ]
  },
  {
   "cell_type": "code",
   "execution_count": null,
   "metadata": {},
   "outputs": [],
   "source": [
    "stats"
   ]
  },
  {
   "cell_type": "code",
   "execution_count": null,
   "metadata": {},
   "outputs": [],
   "source": [
    "image_name = '9a4a4239-5de2e82e-cpkt_19'\n",
    "\n",
    "# im_stats = []\n",
    "# im_stats.extend([stat for stat in stats if stat.startswith(image_name) and stat.endswith('-total.npy') and 'PGD' in stat])\n",
    "# im_stats = sorted(im_stats, key=lambda x: int(\"\".join([i for i in x if i.isdigit()])))\n",
    "# im_stats = sorted(im_stats)\n",
    "# im_stats = [image_name + '.npy'] + im_stats\n",
    "# im_stats = stats\n",
    "# print(im_stats)\n",
    "\n",
    "im_stats = ['9a4a4239-5de2e82e-cpkt_19.npy',\n",
    " '9a4a4239-5de2e82e-cpkt_19-PGD-0.01-1.0-total-10.npy',\n",
    " '9a4a4239-5de2e82e-cpkt_19-PGD-0.01-1.0-total-20.npy',\n",
    " '9a4a4239-5de2e82e-cpkt_19-PGD-0.01-1.0-total-30.npy',\n",
    " '9a4a4239-5de2e82e-cpkt_19-PGD-0.01-1.0-total-40.npy',\n",
    " '9a4a4239-5de2e82e-cpkt_19-PGD-0.01-1.0-total-50.npy']\n",
    "\n",
    "metrics = []\n",
    "for im_stat in im_stats:\n",
    "    metric = np.load(im_stat)\n",
    "    metrics.append(metric)\n",
    "metrics = np.array(metrics)"
   ]
  },
  {
   "cell_type": "code",
   "execution_count": 3,
   "metadata": {},
   "outputs": [],
   "source": [
    "import matplotlib.pyplot as plt\n",
    "import numpy as np"
   ]
  },
  {
   "cell_type": "code",
   "execution_count": null,
   "metadata": {},
   "outputs": [],
   "source": [
    "xaxis_range = ('FGSM $\\epsilon$ = 2', 'FGSM $\\epsilon$ = 8')\n",
    "title = 'Normal vs. Adversarial Training after 13 epochs'\n",
    "X = np.arange(2)"
   ]
  },
  {
   "cell_type": "code",
   "execution_count": null,
   "metadata": {
    "scrolled": true
   },
   "outputs": [],
   "source": [
    "# plt.figure()\n",
    "# plt.bar(xaxis_range, [10, 10, 0], width=0.5)\n",
    "# plt.ylabel('Avg. True Positives per image')\n",
    "# plt.title(title)\n",
    "# plt.show()"
   ]
  },
  {
   "cell_type": "code",
   "execution_count": null,
   "metadata": {},
   "outputs": [],
   "source": [
    "fig = plt.figure()\n",
    "ax = fig.add_axes([0, 0, 1, 1])\n",
    "ax.bar(X + 0.0, [10, 7], width=0.2)\n",
    "ax.bar(X + 0.2, [10, 8], width=0.2)\n",
    "ax.set_xticks(X)\n",
    "ax.set_xticklabels(xaxis_range)\n",
    "ax.legend(labels=['Normal Training', 'Adversarial Training'])\n",
    "plt.ylabel('Avg. True Positives per image')\n",
    "plt.title(title)\n",
    "plt.show()"
   ]
  },
  {
   "cell_type": "code",
   "execution_count": null,
   "metadata": {},
   "outputs": [],
   "source": [
    "fig = plt.figure()\n",
    "ax = fig.add_axes([0, 0, 1, 1])\n",
    "ax.bar(X + 0.0, [29, 35], width=0.2)\n",
    "ax.bar(X + 0.2, [7, 11], width=0.2)\n",
    "ax.set_xticks(X)\n",
    "ax.set_xticklabels(xaxis_range)\n",
    "ax.legend(labels=['Normal Training', 'Adversarial Training'])\n",
    "plt.ylabel('Avg. False Positives per image')\n",
    "plt.title(title)\n",
    "plt.show()"
   ]
  },
  {
   "cell_type": "code",
   "execution_count": null,
   "metadata": {},
   "outputs": [],
   "source": [
    "fig = plt.figure()\n",
    "ax = fig.add_axes([0, 0, 1, 1])\n",
    "ax.bar(X + 0.0, [0.52, 0.47], width=0.2)\n",
    "ax.bar(X + 0.2, [0.42, 0.36], width=0.2)\n",
    "ax.set_xticks(X)\n",
    "ax.set_xticklabels(xaxis_range)\n",
    "ax.legend(labels=['Normal Training', 'Adversarial Training'])\n",
    "plt.ylabel('Avg. Misclassifications per image')\n",
    "plt.title(title)\n",
    "plt.show()"
   ]
  },
  {
   "cell_type": "code",
   "execution_count": null,
   "metadata": {},
   "outputs": [],
   "source": [
    "fig = plt.figure()\n",
    "ax = fig.add_axes([0, 0, 1, 1])\n",
    "ax.bar(X + 0.0, [0.71, 0.69], width=0.2)\n",
    "ax.bar(X + 0.2, [0.74, 0.72], width=0.2)\n",
    "ax.set_xticks(X)\n",
    "ax.set_xticklabels(xaxis_range)\n",
    "ax.legend(labels=['Normal Training', 'Adversarial Training'])\n",
    "plt.ylabel('Avg. IoU of True Positives')\n",
    "plt.title(title)\n",
    "plt.show()"
   ]
  },
  {
   "cell_type": "code",
   "execution_count": 9,
   "metadata": {},
   "outputs": [
    {
     "data": {
      "image/png": "[encoded data removed]",
      "text/plain": [
       "<Figure size 432x288 with 1 Axes>"
      ]
     },
     "metadata": {
      "needs_background": "light"
     },
     "output_type": "display_data"
    }
   ],
   "source": [
    "xaxis_range = ('No attack', 'FGSM $\\epsilon$ = 2', r'PGD $\\epsilon$ = 2, $\\alpha$ = 0.5, t = 10')\n",
    "title = 'Normal vs. Adversarial Training after 5 epochs'\n",
    "X = np.arange(3)\n",
    "\n",
    "fig = plt.figure()\n",
    "ax = fig.add_axes([0, 0, 1, 1])\n",
    "ax.bar(X + 0.0, [0.213, 0.069, 0.055], width=0.3)  # normal training \n",
    "ax.bar(X + 0.3, [0.178, 0.104, 0.070], width=0.3)  # adv 1\n",
    "ax.bar(X + 0.6, [0.187, 0.1135, 0.104], width=0.3)  # adv 2\n",
    "ax.set_xticks(X + 0.3)\n",
    "ax.set_xticklabels(xaxis_range)\n",
    "ax.legend(labels=['Normal Training', 'Adversarial Training, FGSM $\\epsilon$ = 2', r'Adversarial Training, PGD $\\epsilon$ = 2, $\\alpha$ = 0.5, t = 10'])\n",
    "plt.ylabel('mAP')\n",
    "plt.title(title)\n",
    "plt.show()"
   ]
  },
  {
   "cell_type": "code",
   "execution_count": 13,
   "metadata": {},
   "outputs": [
    {
     "data": {
      "image/png": "[encoded data removed]",
      "text/plain": [
       "<Figure size 432x288 with 1 Axes>"
      ]
     },
     "metadata": {
      "needs_background": "light"
     },
     "output_type": "display_data"
    }
   ],
   "source": [
    "xaxis_range = ('No attack', 'FGSM $\\epsilon$ = 2')\n",
    "title = 'Normal vs. Adversarial Training after full training'\n",
    "X = np.arange(2)\n",
    "\n",
    "fig = plt.figure()\n",
    "ax = fig.add_axes([0, 0, 1, 1])\n",
    "ax.bar(X + 0.0, [0.311, 0.117], width=0.3)  # normal training \n",
    "ax.bar(X + 0.3, [0.300, 0.234], width=0.3)  # adv 1\n",
    "ax.set_xticks(X + 0.15)\n",
    "ax.set_xticklabels(xaxis_range)\n",
    "ax.legend(labels=['Normal Training, 20 epochs', 'Adversarial Training, FGSM $\\epsilon$ = 2, 35 epochs'])\n",
    "plt.ylabel('mAP')\n",
    "plt.title(title)\n",
    "plt.show()"
   ]
  },
  {
   "cell_type": "code",
   "execution_count": 8,
   "metadata": {},
   "outputs": [
    {
     "data": {
      "image/png": "[encoded data removed]",
      "text/plain": [
       "<Figure size 432x288 with 1 Axes>"
      ]
     },
     "metadata": {
      "needs_background": "light"
     },
     "output_type": "display_data"
    }
   ],
   "source": [
    "xaxis_range = ('No attack', 'FGSM $\\epsilon$ = 2')\n",
    "title = 'Normal vs. IRL Training'\n",
    "X = np.arange(2)\n",
    "\n",
    "fig = plt.figure()\n",
    "ax = fig.add_axes([0, 0, 1, 1])\n",
    "ax.bar(X + 0.0, [0.311, 0.117], width=0.3)  # normal training \n",
    "ax.bar(X + 0.3, [0.300, 0.234], width=0.3)\n",
    "ax.bar(X + 0.6, [0.258, 0.175], width=0.3)  # adv \n",
    "ax.set_xticks(X + 0.3)\n",
    "ax.set_xticklabels(xaxis_range)\n",
    "ax.legend(labels=['Normal Training, 20 epochs', 'Adversarial Training, FGSM $\\epsilon$ = 2, 35 epochs','IRL Training, FGSM $\\epsilon$ = 2, 32 epochs'])\n",
    "plt.ylabel('Test mAP')\n",
    "plt.xlabel('Attack type during testing')\n",
    "plt.title(title)\n",
    "plt.show()"
   ]
  },
  {
   "cell_type": "code",
   "execution_count": 20,
   "metadata": {},
   "outputs": [
    {
     "data": {
      "image/png": "[encoded data removed]",
      "text/plain": [
       "<Figure size 432x288 with 1 Axes>"
      ]
     },
     "metadata": {
      "needs_background": "light"
     },
     "output_type": "display_data"
    }
   ],
   "source": [
    "xaxis_range = ('No attack', 'FGSM $\\epsilon$ = 2')\n",
    "title = 'Normal vs. IRL Training after 5 epochs'\n",
    "X = np.arange(2)\n",
    "\n",
    "fig = plt.figure()\n",
    "ax = fig.add_axes([0, 0, 1, 1])\n",
    "ax.bar(X + 0.0, [0.213, 0.069], width=0.15)  # normal training \n",
    "ax.bar(X + 0.15, [0.117, 0.015], width=0.15)  # irl 1\n",
    "ax.bar(X + 0.30, [0.142, 0.082], width=0.15)  # irl 2\n",
    "ax.bar(X + 0.45, [0.210, 0.082], width=0.15)  # irl 3\n",
    "ax.set_xticks(X + 0.225)\n",
    "ax.set_xticklabels(xaxis_range)\n",
    "ax.legend(labels=['Normal Training', 'IRL-E, FGSM $\\epsilon$ = 2', r'IRL-C, FGSM $\\epsilon$ = 2', 'Pre-trained IRL-C, FGSM $\\epsilon = 2$'])\n",
    "plt.ylabel('mAP')\n",
    "plt.title(title)\n",
    "plt.show()"
   ]
  },
  {
   "cell_type": "code",
   "execution_count": 17,
   "metadata": {},
   "outputs": [
    {
     "data": {
      "text/plain": [
       "array([0, 1])"
      ]
     },
     "execution_count": 17,
     "metadata": {},
     "output_type": "execute_result"
    }
   ],
   "source": [
    "np.arange(2)"
   ]
  },
  {
   "cell_type": "code",
   "execution_count": 21,
   "metadata": {},
   "outputs": [
    {
     "data": {
      "image/png": "[encoded data removed]",
      "text/plain": [
       "<Figure size 432x288 with 1 Axes>"
      ]
     },
     "metadata": {
      "needs_background": "light"
     },
     "output_type": "display_data"
    }
   ],
   "source": [
    "xaxis_range = ('No attack', 'FGSM attack on cls.')\n",
    "X = [0, 0.2]\n",
    "plt.figure()\n",
    "plt.bar(X, [2.6, 7.7], width=0.1, align='center')\n",
    "plt.ylabel('Misclassification rate (%)')\n",
    "plt.tight_layout()\n",
    "plt.xticks(X, labels=xaxis_range)\n",
    "plt.show()"
   ]
  },
  {
   "cell_type": "code",
   "execution_count": null,
   "metadata": {},
   "outputs": [],
   "source": [
    "# plt.figure()\n",
    "# plt.bar(xaxis_range, metrics[:, 2].astype(int), width=0.5)\n",
    "# plt.ylabel('False Negatives')\n",
    "# plt.title(title)\n",
    "# plt.show()"
   ]
  },
  {
   "cell_type": "code",
   "execution_count": null,
   "metadata": {},
   "outputs": [],
   "source": [
    "# plt.figure()\n",
    "# plt.bar(xaxis_range, [0.56, 0.42, 0], width=0.5)\n",
    "# plt.ylabel('Avg. Misclassifications per image')\n",
    "# plt.title(title)\n",
    "# plt.show()"
   ]
  },
  {
   "cell_type": "code",
   "execution_count": null,
   "metadata": {},
   "outputs": [],
   "source": [
    "# plt.figure()\n",
    "# plt.bar(xaxis_range, [0.71, 0.74, 0], width=0.5)\n",
    "# plt.ylabel('Avg. IoU of True Positives')\n",
    "# plt.title(title)\n",
    "# plt.show()"
   ]
  },
  {
   "cell_type": "code",
   "execution_count": null,
   "metadata": {},
   "outputs": [],
   "source": [
    "# plt.figure()\n",
    "# plt.bar(xaxis_range, metrics[:, 5], width=0.5)\n",
    "# plt.ylabel('Confidence on False Positives')\n",
    "# plt.title(title)\n",
    "# plt.show()"
   ]
  },
  {
   "cell_type": "code",
   "execution_count": null,
   "metadata": {},
   "outputs": [],
   "source": [
    "# plt.figure()\n",
    "# plt.bar(xaxis_range, [0.088, 0.198, 0], width=0.5)\n",
    "# plt.ylabel('mAP')\n",
    "# plt.title(title)\n",
    "# plt.show()"
   ]
  },
  {
   "cell_type": "code",
   "execution_count": 44,
   "metadata": {},
   "outputs": [
    {
     "name": "stdout",
     "output_type": "stream",
     "text": [
      "save to: results/dist-layer-distanceofactivationsbetweencleanandnoisydataonRetinaNet.png\r\n"
     ]
    }
   ],
   "source": [
    "!python code/shared/plots/plot_layerdist.py"
   ]
  },
  {
   "cell_type": "code",
   "execution_count": 27,
   "metadata": {},
   "outputs": [],
   "source": [
    "!python code/shared/plots/mAP_per_epoch.py"
   ]
  },
  {
   "cell_type": "code",
   "execution_count": null,
   "metadata": {},
   "outputs": [],
   "source": []
  }
 ],
 "metadata": {
  "kernelspec": {
   "display_name": "Python 3",
   "language": "python",
   "name": "python3"
  },
  "language_info": {
   "codemirror_mode": {
    "name": "ipython",
    "version": 3
   },
   "file_extension": ".py",
   "mimetype": "text/x-python",
   "name": "python",
   "nbconvert_exporter": "python",
   "pygments_lexer": "ipython3",
   "version": "3.7.7"
  }
 },
 "nbformat": 4,
 "nbformat_minor": 4
}
