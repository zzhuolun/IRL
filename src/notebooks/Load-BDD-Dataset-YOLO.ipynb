{
 "cells": [
  {
   "cell_type": "code",
   "execution_count": 1,
   "metadata": {},
   "outputs": [],
   "source": [
    "import json\n",
    "import numpy as np\n",
    "from shutil import copyfile\n",
    "import os"
   ]
  },
  {
   "cell_type": "code",
   "execution_count": null,
   "metadata": {},
   "outputs": [],
   "source": [
    "with open('../data/bdd100k/labels/bdd100k_labels_images_train.json',) as f:\n",
    "    data = json.load(f)\n",
    "with open('../data/bdd100k/labels/bdd100k_labels_images_val.json',) as f:\n",
    "    val_data = json.load(f)"
   ]
  },
  {
   "cell_type": "code",
   "execution_count": null,
   "metadata": {},
   "outputs": [],
   "source": [
    "data += val_data"
   ]
  },
  {
   "cell_type": "code",
   "execution_count": null,
   "metadata": {},
   "outputs": [],
   "source": [
    "len(data)"
   ]
  },
  {
   "cell_type": "code",
   "execution_count": 2,
   "metadata": {},
   "outputs": [],
   "source": [
    "def split_data(path, filename, split_perc=[0.8, 0.1, 0.1]):\n",
    "    assert np.sum(split_perc) == 1.\n",
    "    file = open(path + filename + '.txt', 'r')\n",
    "    names = [line.strip('\\n') for line in file]\n",
    "    names = np.random.permutation(names)\n",
    "    \n",
    "    split_len = np.array(split_perc) * len(names)\n",
    "    split_idx = split_len[:-1].astype(int)\n",
    "    split_idx[1] += split_idx[0]\n",
    "    sub_arrays = np.split(names, split_idx)\n",
    "    \n",
    "    ftrain = open(path + filename.strip('_all') + '_train.txt', 'w+')\n",
    "    fval = open(path + filename.strip('_all') + '_val.txt', 'w+')\n",
    "    ftest = open(path + filename.strip('_all') + '_test.txt', 'w+')\n",
    "    \n",
    "    for array, file in zip(sub_arrays, [ftrain, fval, ftest]):\n",
    "        for name in array:\n",
    "            file.write(name + '\\n')\n",
    "        \n",
    "    ftrain.close()\n",
    "    fval.close()\n",
    "    ftest.close()\n",
    "    \n",
    "split_data('../PyTorch-YOLOv3/data/custom/', 'daytime_all')"
   ]
  },
  {
   "cell_type": "code",
   "execution_count": null,
   "metadata": {},
   "outputs": [],
   "source": [
    "def keep_conditions():\n",
    "    ftxt = open(\"../PyTorch-YOLOv3/data/custom/daytime.txt\", \"w+\")\n",
    "    count = 0\n",
    "\n",
    "    for image in data:\n",
    "        iname = image['name']\n",
    "\n",
    "        if image['attributes']['timeofday'] == 'daytime':\n",
    "            ftxt.write('data/custom/images/' + iname + '\\n')\n",
    "            count += 1\n",
    "    print(count)"
   ]
  },
  {
   "cell_type": "code",
   "execution_count": null,
   "metadata": {},
   "outputs": [],
   "source": [
    "def copy_all_images():\n",
    "    ftxt = open(\"../PyTorch-YOLOv3/data/custom/all.txt\", \"w+\")\n",
    "\n",
    "    for image in data:\n",
    "        iname = image['name']\n",
    "        fname = iname[:-4]\n",
    "        f = open(\"../PyTorch-YOLOv3/data/custom/labels/\" + fname + \".txt\",\"w+\")\n",
    "\n",
    "        labels = image['labels']\n",
    "        for label in labels:\n",
    "            if 'box2d' not in label:\n",
    "                continue\n",
    "            xy = label['box2d']\n",
    "            if xy['x1'] >= xy['x2'] or xy['y1'] >= xy['y2']:\n",
    "                continue\n",
    "            X = xy['x1'] / 1280\n",
    "            Y = xy['y1'] / 720\n",
    "            MX = ((xy['x1'] + xy['x2']) / 2) / 1280\n",
    "            MY = ((xy['y1'] + xy['y2']) / 2) / 720\n",
    "            W = xy['x2'] / 1280\n",
    "            H = xy['y2'] / 720\n",
    "            if X > W or Y > H:\n",
    "                continue\n",
    "\n",
    "            lbl = -1\n",
    "            if(label['category'] == \"bike\"):\n",
    "                lbl = 0\n",
    "            if(label['category'] == \"bus\"):\n",
    "                lbl = 1\n",
    "            if(label['category'] == \"car\"):\n",
    "                lbl = 2\n",
    "            if(label['category'] == \"motor\"):\n",
    "                lbl = 3\n",
    "            if(label['category'] == \"person\"):\n",
    "                lbl = 4\n",
    "            if(label['category'] == \"rider\"):\n",
    "                lbl = 5\n",
    "            if(label['category'] == \"traffic light\"):\n",
    "                lbl = 6\n",
    "            if(label['category'] == \"traffic sign\"):\n",
    "                lbl = 7\n",
    "            if(label['category'] == \"train\"):\n",
    "                lbl = 8\n",
    "            if(label['category'] == \"truck\"):\n",
    "                lbl = 9\n",
    "\n",
    "            f.write(repr(lbl) + \" \" + repr(MX) + \" \" + repr(MY) + \" \" + repr(W-X) + \" \" + repr(H-Y) + '\\n')\n",
    "            ftxt.write('data/custom/images/' + iname + '\\n')\n",
    "    #         copyfile('../data/bdd100k/images/100k/val/' + iname, '../PyTorch-YOLOv3/data/custom/images/' + iname) "
   ]
  }
 ],
 "metadata": {
  "kernelspec": {
   "display_name": "Python 3",
   "language": "python",
   "name": "python3"
  },
  "language_info": {
   "codemirror_mode": {
    "name": "ipython",
    "version": 3
   },
   "file_extension": ".py",
   "mimetype": "text/x-python",
   "name": "python",
   "nbconvert_exporter": "python",
   "pygments_lexer": "ipython3",
   "version": "3.7.7"
  }
 },
 "nbformat": 4,
 "nbformat_minor": 4
}
