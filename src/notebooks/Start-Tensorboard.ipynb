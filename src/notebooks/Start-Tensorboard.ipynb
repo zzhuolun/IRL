{
 "cells": [
  {
   "cell_type": "code",
   "execution_count": 1,
   "metadata": {},
   "outputs": [],
   "source": [
    "import os"
   ]
  },
  {
   "cell_type": "code",
   "execution_count": 2,
   "metadata": {},
   "outputs": [],
   "source": [
    "os.chdir('/nfs/students/summer-term-2020/project-3/src')"
   ]
  },
  {
   "cell_type": "code",
   "execution_count": null,
   "metadata": {},
   "outputs": [
    {
     "name": "stdout",
     "output_type": "stream",
     "text": [
      "TensorBoard 2.1.0 at http://gpu12.kdd.in.tum.de:16007/ (Press CTRL+C to quit)\n",
      "W0621 20:56:34.306001 140416264742656 plugin_event_multiplexer.py:250] Deleting accumulator '.'\n"
     ]
    }
   ],
   "source": [
    "!tensorboard --logdir='logs/IRL-FGSM-epochs=50-batch=4-img_size=608-multi_scale=False-eps=2-loss_type=1-irl_alpha=0.5-irl_beta=0.5-reg_layers=[84, 96]' --port=16007 --host=$(hostname).kdd.in.tum.de"
   ]
  }
 ],
 "metadata": {
  "kernelspec": {
   "display_name": "Python 3",
   "language": "python",
   "name": "python3"
  },
  "language_info": {
   "codemirror_mode": {
    "name": "ipython",
    "version": 3
   },
   "file_extension": ".py",
   "mimetype": "text/x-python",
   "name": "python",
   "nbconvert_exporter": "python",
   "pygments_lexer": "ipython3",
   "version": "3.7.7"
  }
 },
 "nbformat": 4,
 "nbformat_minor": 4
}
