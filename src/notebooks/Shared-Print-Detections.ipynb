{
 "cells": [
  {
   "cell_type": "code",
   "execution_count": 1,
   "metadata": {},
   "outputs": [],
   "source": [
    "import os"
   ]
  },
  {
   "cell_type": "code",
   "execution_count": 2,
   "metadata": {},
   "outputs": [],
   "source": [
    "os.chdir('/nfs/students/summer-term-2020/project-3/src')"
   ]
  },
  {
   "cell_type": "code",
   "execution_count": 3,
   "metadata": {},
   "outputs": [],
   "source": [
    "import sys\n",
    "sys.path.append(\"code/shared/evaluate\")"
   ]
  },
  {
   "cell_type": "code",
   "execution_count": 4,
   "metadata": {},
   "outputs": [],
   "source": [
    "from print_detections import print_detections"
   ]
  },
  {
   "cell_type": "code",
   "execution_count": 5,
   "metadata": {},
   "outputs": [],
   "source": [
    "path = 'results/detect-FGSM-loss=all-eps=2-ckpt=YOLOv3-Adversarial-FGSM-epochs=50-batch=4-img_size=608-multi_scale=True-eps=2-mix_thres=0.5-ckpt_26.pth'"
   ]
  },
  {
   "cell_type": "code",
   "execution_count": 6,
   "metadata": {},
   "outputs": [
    {
     "name": "stdout",
     "output_type": "stream",
     "text": [
      "\n",
      "Saving images:\n",
      "(0) Image: 'results/detect-FGSM-loss=all-eps=2-ckpt=YOLOv3-Adversarial-FGSM-epochs=50-batch=4-img_size=608-multi_scale=True-eps=2-mix_thres=0.5-ckpt_26.pth/0ed0d326-f3689a47.png'\n",
      "\t+ Label: car, Conf: 0.99857\n",
      "\t+ Label: car, Conf: 0.99872\n",
      "\t+ Label: car, Conf: 0.99614\n",
      "\t+ Label: car, Conf: 0.99591\n",
      "\t+ Label: car, Conf: 0.99417\n",
      "\t+ Label: traffic sign, Conf: 0.99684\n",
      "\t+ Label: car, Conf: 0.99059\n",
      "\t+ Label: car, Conf: 0.96388\n",
      "\t+ Label: car, Conf: 0.97920\n",
      "\t+ Label: traffic sign, Conf: 0.99635\n",
      "\t+ Label: car, Conf: 0.97581\n",
      "\t+ Label: car, Conf: 0.99453\n",
      "\t+ Label: car, Conf: 0.92502\n",
      "\t+ Label: car, Conf: 0.86881\n",
      "\t+ Label: car, Conf: 0.97964\n",
      "\t+ Label: car, Conf: 0.88804\n",
      "\t+ Label: car, Conf: 0.88182\n",
      "\t+ Label: traffic light, Conf: 0.76740\n",
      "\t+ Label: car, Conf: 0.68335\n",
      "results/detect-FGSM-loss=all-eps=2-ckpt=YOLOv3-Adversarial-FGSM-epochs=50-batch=4-img_size=608-multi_scale=True-eps=2-mix_thres=0.5-ckpt_26.pth/0ed0d326-f3689a47_bbx.jpg\n",
      "(1) Image: 'results/detect-FGSM-loss=all-eps=2-ckpt=YOLOv3-Adversarial-FGSM-epochs=50-batch=4-img_size=608-multi_scale=True-eps=2-mix_thres=0.5-ckpt_26.pth/1b2bbaec-93e98a2a.png'\n",
      "\t+ Label: car, Conf: 0.90064\n",
      "results/detect-FGSM-loss=all-eps=2-ckpt=YOLOv3-Adversarial-FGSM-epochs=50-batch=4-img_size=608-multi_scale=True-eps=2-mix_thres=0.5-ckpt_26.pth/1b2bbaec-93e98a2a_bbx.jpg\n",
      "(2) Image: 'results/detect-FGSM-loss=all-eps=2-ckpt=YOLOv3-Adversarial-FGSM-epochs=50-batch=4-img_size=608-multi_scale=True-eps=2-mix_thres=0.5-ckpt_26.pth/5f12d91c-e52fcb42.png'\n",
      "\t+ Label: car, Conf: 0.99828\n",
      "\t+ Label: car, Conf: 0.99677\n",
      "\t+ Label: traffic sign, Conf: 0.99268\n",
      "\t+ Label: car, Conf: 0.98849\n",
      "\t+ Label: car, Conf: 0.99219\n",
      "\t+ Label: car, Conf: 0.98751\n",
      "\t+ Label: car, Conf: 0.98586\n",
      "\t+ Label: car, Conf: 0.96873\n",
      "\t+ Label: traffic sign, Conf: 0.96711\n",
      "\t+ Label: car, Conf: 0.97787\n",
      "\t+ Label: traffic sign, Conf: 0.99720\n",
      "\t+ Label: car, Conf: 0.96619\n",
      "\t+ Label: traffic sign, Conf: 0.99636\n",
      "\t+ Label: traffic sign, Conf: 0.99298\n",
      "\t+ Label: car, Conf: 0.99212\n",
      "\t+ Label: traffic sign, Conf: 0.99338\n",
      "\t+ Label: traffic sign, Conf: 0.99364\n",
      "\t+ Label: car, Conf: 0.95955\n",
      "\t+ Label: car, Conf: 0.66562\n",
      "results/detect-FGSM-loss=all-eps=2-ckpt=YOLOv3-Adversarial-FGSM-epochs=50-batch=4-img_size=608-multi_scale=True-eps=2-mix_thres=0.5-ckpt_26.pth/5f12d91c-e52fcb42_bbx.jpg\n",
      "(3) Image: 'results/detect-FGSM-loss=all-eps=2-ckpt=YOLOv3-Adversarial-FGSM-epochs=50-batch=4-img_size=608-multi_scale=True-eps=2-mix_thres=0.5-ckpt_26.pth/65444c3e-bb302b85.png'\n",
      "\t+ Label: car, Conf: 0.99911\n",
      "\t+ Label: car, Conf: 0.99581\n",
      "\t+ Label: car, Conf: 0.99344\n",
      "\t+ Label: car, Conf: 0.98790\n",
      "\t+ Label: car, Conf: 0.99818\n",
      "\t+ Label: car, Conf: 0.99581\n",
      "\t+ Label: car, Conf: 0.99446\n",
      "\t+ Label: car, Conf: 0.97119\n",
      "\t+ Label: car, Conf: 0.95061\n",
      "\t+ Label: traffic light, Conf: 0.99109\n",
      "\t+ Label: car, Conf: 0.97982\n",
      "\t+ Label: truck, Conf: 0.97357\n",
      "\t+ Label: traffic light, Conf: 0.99314\n",
      "\t+ Label: traffic light, Conf: 0.97505\n",
      "\t+ Label: car, Conf: 0.96202\n",
      "\t+ Label: car, Conf: 0.99596\n",
      "\t+ Label: traffic light, Conf: 0.98419\n",
      "\t+ Label: car, Conf: 0.98605\n",
      "\t+ Label: traffic light, Conf: 0.97506\n",
      "\t+ Label: car, Conf: 0.99782\n",
      "\t+ Label: car, Conf: 0.93826\n",
      "\t+ Label: traffic light, Conf: 0.97473\n",
      "\t+ Label: car, Conf: 0.95783\n",
      "\t+ Label: traffic light, Conf: 0.87223\n",
      "\t+ Label: bus, Conf: 0.45756\n",
      "results/detect-FGSM-loss=all-eps=2-ckpt=YOLOv3-Adversarial-FGSM-epochs=50-batch=4-img_size=608-multi_scale=True-eps=2-mix_thres=0.5-ckpt_26.pth/65444c3e-bb302b85_bbx.jpg\n",
      "(4) Image: 'results/detect-FGSM-loss=all-eps=2-ckpt=YOLOv3-Adversarial-FGSM-epochs=50-batch=4-img_size=608-multi_scale=True-eps=2-mix_thres=0.5-ckpt_26.pth/9a4a4239-5de2e82e.png'\n",
      "\t+ Label: traffic light, Conf: 0.99845\n",
      "\t+ Label: traffic light, Conf: 0.99849\n",
      "\t+ Label: traffic light, Conf: 0.99143\n",
      "\t+ Label: car, Conf: 0.96825\n",
      "\t+ Label: car, Conf: 0.97288\n",
      "\t+ Label: traffic sign, Conf: 0.98595\n",
      "\t+ Label: car, Conf: 0.96090\n",
      "\t+ Label: car, Conf: 0.99201\n",
      "\t+ Label: car, Conf: 0.95727\n",
      "\t+ Label: traffic light, Conf: 0.98408\n",
      "\t+ Label: traffic light, Conf: 0.98911\n",
      "\t+ Label: traffic light, Conf: 0.98525\n",
      "\t+ Label: car, Conf: 0.97789\n",
      "\t+ Label: person, Conf: 0.99153\n",
      "\t+ Label: traffic sign, Conf: 0.98998\n",
      "\t+ Label: car, Conf: 0.86051\n",
      "\t+ Label: car, Conf: 0.86978\n",
      "\t+ Label: car, Conf: 0.73176\n",
      "\t+ Label: truck, Conf: 0.73352\n",
      "results/detect-FGSM-loss=all-eps=2-ckpt=YOLOv3-Adversarial-FGSM-epochs=50-batch=4-img_size=608-multi_scale=True-eps=2-mix_thres=0.5-ckpt_26.pth/9a4a4239-5de2e82e_bbx.jpg\n",
      "(5) Image: 'results/detect-FGSM-loss=all-eps=2-ckpt=YOLOv3-Adversarial-FGSM-epochs=50-batch=4-img_size=608-multi_scale=True-eps=2-mix_thres=0.5-ckpt_26.pth/c02d18db-023c1955.png'\n",
      "\t+ Label: car, Conf: 0.99987\n",
      "\t+ Label: car, Conf: 0.99962\n",
      "\t+ Label: car, Conf: 0.99936\n",
      "\t+ Label: car, Conf: 0.99927\n",
      "\t+ Label: car, Conf: 0.99933\n",
      "\t+ Label: car, Conf: 0.99795\n",
      "\t+ Label: car, Conf: 0.99691\n",
      "\t+ Label: car, Conf: 0.99755\n",
      "\t+ Label: car, Conf: 0.99680\n",
      "\t+ Label: car, Conf: 0.99466\n",
      "\t+ Label: car, Conf: 0.99597\n",
      "\t+ Label: car, Conf: 0.99662\n",
      "\t+ Label: car, Conf: 0.98341\n",
      "\t+ Label: car, Conf: 0.99014\n",
      "\t+ Label: car, Conf: 0.99274\n",
      "\t+ Label: car, Conf: 0.98746\n",
      "\t+ Label: car, Conf: 0.98624\n",
      "\t+ Label: car, Conf: 0.93010\n",
      "\t+ Label: traffic sign, Conf: 0.97252\n",
      "\t+ Label: car, Conf: 0.99762\n",
      "\t+ Label: traffic sign, Conf: 0.84627\n",
      "results/detect-FGSM-loss=all-eps=2-ckpt=YOLOv3-Adversarial-FGSM-epochs=50-batch=4-img_size=608-multi_scale=True-eps=2-mix_thres=0.5-ckpt_26.pth/c02d18db-023c1955_bbx.jpg\n"
     ]
    },
    {
     "data": {
      "text/plain": [
       "<Figure size 432x288 with 0 Axes>"
      ]
     },
     "metadata": {},
     "output_type": "display_data"
    },
    {
     "data": {
      "text/plain": [
       "<Figure size 432x288 with 0 Axes>"
      ]
     },
     "metadata": {},
     "output_type": "display_data"
    },
    {
     "data": {
      "text/plain": [
       "<Figure size 432x288 with 0 Axes>"
      ]
     },
     "metadata": {},
     "output_type": "display_data"
    },
    {
     "data": {
      "text/plain": [
       "<Figure size 432x288 with 0 Axes>"
      ]
     },
     "metadata": {},
     "output_type": "display_data"
    },
    {
     "data": {
      "text/plain": [
       "<Figure size 432x288 with 0 Axes>"
      ]
     },
     "metadata": {},
     "output_type": "display_data"
    },
    {
     "data": {
      "text/plain": [
       "<Figure size 432x288 with 0 Axes>"
      ]
     },
     "metadata": {},
     "output_type": "display_data"
    }
   ],
   "source": [
    "print_detections(path)"
   ]
  },
  {
   "cell_type": "code",
   "execution_count": null,
   "metadata": {},
   "outputs": [],
   "source": []
  }
 ],
 "metadata": {
  "kernelspec": {
   "display_name": "Python 3",
   "language": "python",
   "name": "python3"
  },
  "language_info": {
   "codemirror_mode": {
    "name": "ipython",
    "version": 3
   },
   "file_extension": ".py",
   "mimetype": "text/x-python",
   "name": "python",
   "nbconvert_exporter": "python",
   "pygments_lexer": "ipython3",
   "version": "3.7.7"
  }
 },
 "nbformat": 4,
 "nbformat_minor": 4
}
