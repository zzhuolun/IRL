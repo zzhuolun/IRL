{
 "cells": [
  {
   "cell_type": "code",
   "execution_count": 1,
   "metadata": {},
   "outputs": [],
   "source": [
    "import os"
   ]
  },
  {
   "cell_type": "code",
   "execution_count": 2,
   "metadata": {},
   "outputs": [],
   "source": [
    "os.chdir('/nfs/students/summer-term-2020/project-3/src')"
   ]
  },
  {
   "cell_type": "code",
   "execution_count": 3,
   "metadata": {},
   "outputs": [
    {
     "name": "stdout",
     "output_type": "stream",
     "text": [
      "Namespace(alpha=0.5, attack_type='PGD', class_path='data/classes.names', conf=0.8, data_config='code/YOLOv3/config/custom.data', dist_type='l2', eps=2, img_size=608, iterations=10, loss_type='all', model_def='code/YOLOv3/config/yolov3-custom.cfg', n_cpu=8, nms_thres=0.5, prediction_mode='detect', sign_grad=False, weights_path='checkpoints/YOLOv3/Adversarial-FGSM-epochs=50-batch=4-img_size=608-multi_scale=True-eps=2-mix_thres=0.5/ckpt_26.pth')\n",
      "Detecting objects: 100%|████████████████████████| 16/16 [00:21<00:00,  1.31s/it]\n"
     ]
    }
   ],
   "source": [
    "!python code/YOLOv3/predict.py --weights_path \"checkpoints/YOLOv3/Adversarial-FGSM-epochs=50-batch=4-img_size=608-multi_scale=True-eps=2-mix_thres=0.5/ckpt_26.pth\" \\\n",
    "--prediction_mode detect \\\n",
    "--attack_type PGD \\\n",
    "--loss_type all \\\n",
    "--eps 2 \\\n",
    "--conf 0.8"
   ]
  },
  {
   "cell_type": "code",
   "execution_count": 5,
   "metadata": {},
   "outputs": [
    {
     "name": "stdout",
     "output_type": "stream",
     "text": [
      "Namespace(alpha=0.5, attack_type='FGSM', class_path='data/classes.names', conf=0.001, data_config='code/YOLOv3/config/custom.data', dist_type='l2', eps=2, img_size=608, iterations=10, loss_type='all', model_def='code/YOLOv3/config/yolov3-custom.cfg', n_cpu=8, nms_thres=0.5, prediction_mode='test', sign_grad=False, weights_path='checkpoints/YOLOv3/Normal-random_noise-epochs=50-batch=4-img_size=608-multi_scale=True/ckpt_9.pth')\n",
      "Detecting objects: 100%|████████████████████| 4200/4200 [43:54<00:00,  1.59it/s]\n"
     ]
    }
   ],
   "source": [
    "!python code/YOLOv3/predict.py --weights_path \"checkpoints/YOLOv3/Normal-random_noise-epochs=50-batch=4-img_size=608-multi_scale=True/ckpt_9.pth\" \\\n",
    "--prediction_mode test \\\n",
    "--attack_type FGSM \\\n",
    "--loss_type all \\\n",
    "--eps 2 \\\n",
    "--conf 0.001"
   ]
  },
  {
   "cell_type": "code",
   "execution_count": 6,
   "metadata": {},
   "outputs": [
    {
     "name": "stdout",
     "output_type": "stream",
     "text": [
      "Namespace(alpha=0.5, attack_type='FGSM', class_path='data/classes.names', conf=0.001, data_config='code/YOLOv3/config/custom.data', dist_type='l2', eps=2, img_size=608, iterations=10, loss_type='all', model_def='code/YOLOv3/config/yolov3-custom.cfg', n_cpu=8, nms_thres=0.5, prediction_mode='test', sign_grad=False, weights_path='checkpoints/YOLOv3/Normal-random_noise-epochs=50-batch=4-img_size=608-multi_scale=True/ckpt_14.pth')\n",
      "Detecting objects: 100%|████████████████████| 4200/4200 [34:54<00:00,  2.01it/s]\n"
     ]
    }
   ],
   "source": [
    "!python code/YOLOv3/predict.py --weights_path \"checkpoints/YOLOv3/Normal-random_noise-epochs=50-batch=4-img_size=608-multi_scale=True/ckpt_14.pth\" \\\n",
    "--prediction_mode test \\\n",
    "--attack_type FGSM \\\n",
    "--loss_type all \\\n",
    "--eps 2 \\\n",
    "--conf 0.001"
   ]
  },
  {
   "cell_type": "code",
   "execution_count": 4,
   "metadata": {},
   "outputs": [],
   "source": [
    "# !python code/shared/plots/plot_layerdist_copy.py"
   ]
  },
  {
   "cell_type": "code",
   "execution_count": 5,
   "metadata": {},
   "outputs": [],
   "source": [
    "import sys\n",
    "sys.path.append(\"code/shared/\")\n",
    "\n",
    "from evaluate.test import evaluate_test\n",
    "from evaluate.print_detections import print_detections"
   ]
  },
  {
   "cell_type": "code",
   "execution_count": 8,
   "metadata": {
    "scrolled": true
   },
   "outputs": [
    {
     "name": "stderr",
     "output_type": "stream",
     "text": [
      "\r",
      "Computing batch statistics:   0%|          | 0/525 [00:00<?, ?it/s]"
     ]
    },
    {
     "name": "stdout",
     "output_type": "stream",
     "text": [
      "Compute mAP...\n"
     ]
    },
    {
     "name": "stderr",
     "output_type": "stream",
     "text": [
      "Computing batch statistics: 100%|██████████| 525/525 [11:15<00:00,  1.29s/it]\n",
      "Computing AP: 100%|██████████| 10/10 [00:10<00:00,  1.03s/it]"
     ]
    },
    {
     "name": "stdout",
     "output_type": "stream",
     "text": [
      "Average Precisions:\n",
      "+ Class '0' (bike) - AP: 0.008325389172424084\n",
      "+ Class '1' (bus) - AP: 0.001185296899960387\n",
      "+ Class '2' (car) - AP: 0.33976537430710413\n",
      "+ Class '3' (motor) - AP: 0.0\n",
      "+ Class '4' (person) - AP: 0.07413232159466913\n",
      "+ Class '5' (rider) - AP: 0.0033583959899749372\n",
      "+ Class '6' (traffic light) - AP: 0.11123953290675773\n",
      "+ Class '7' (traffic sign) - AP: 0.07102776377737877\n",
      "+ Class '8' (train) - AP: 0.0\n",
      "+ Class '9' (truck) - AP: 0.05836445987514754\n",
      "mAP: 0.06673985345234167\n"
     ]
    },
    {
     "name": "stderr",
     "output_type": "stream",
     "text": [
      "\n"
     ]
    }
   ],
   "source": [
    "evaluate_test('results/test-conf=0.001-FGSM-loss=all-eps=2-ckpt=YOLOv3-Normal-random_noise-epochs=50-batch=4-img_size=608-multi_scale=True-ckpt_4.pth',\n",
    "             detect_mode=False,\n",
    "             conf_thres_retina=None)"
   ]
  },
  {
   "cell_type": "code",
   "execution_count": 9,
   "metadata": {},
   "outputs": [
    {
     "name": "stderr",
     "output_type": "stream",
     "text": [
      "\r",
      "Computing batch statistics:   0%|          | 0/525 [00:00<?, ?it/s]"
     ]
    },
    {
     "name": "stdout",
     "output_type": "stream",
     "text": [
      "Compute mAP...\n"
     ]
    },
    {
     "name": "stderr",
     "output_type": "stream",
     "text": [
      "Computing batch statistics: 100%|██████████| 525/525 [14:15<00:00,  1.63s/it]\n",
      "Computing AP: 100%|██████████| 10/10 [00:13<00:00,  1.37s/it]"
     ]
    },
    {
     "name": "stdout",
     "output_type": "stream",
     "text": [
      "Average Precisions:\n",
      "+ Class '0' (bike) - AP: 0.03229721037140076\n",
      "+ Class '1' (bus) - AP: 0.0018184187854371474\n",
      "+ Class '2' (car) - AP: 0.31031087875874225\n",
      "+ Class '3' (motor) - AP: 0.0012209343167974992\n",
      "+ Class '4' (person) - AP: 0.08486268219595172\n",
      "+ Class '5' (rider) - AP: 0.025038087238222186\n",
      "+ Class '6' (traffic light) - AP: 0.1558679550097694\n",
      "+ Class '7' (traffic sign) - AP: 0.08942576390513321\n",
      "+ Class '8' (train) - AP: 0.0\n",
      "+ Class '9' (truck) - AP: 0.09583375172674131\n",
      "mAP: 0.07966756823081955\n"
     ]
    },
    {
     "name": "stderr",
     "output_type": "stream",
     "text": [
      "\n"
     ]
    }
   ],
   "source": [
    "evaluate_test('results/test-conf=0.001-FGSM-loss=all-eps=2-ckpt=YOLOv3-Normal-random_noise-epochs=50-batch=4-img_size=608-multi_scale=True-ckpt_9.pth',\n",
    "             detect_mode=False,\n",
    "             conf_thres_retina=None)"
   ]
  },
  {
   "cell_type": "code",
   "execution_count": 10,
   "metadata": {},
   "outputs": [
    {
     "name": "stderr",
     "output_type": "stream",
     "text": [
      "\r",
      "Computing batch statistics:   0%|          | 0/525 [00:00<?, ?it/s]"
     ]
    },
    {
     "name": "stdout",
     "output_type": "stream",
     "text": [
      "Compute mAP...\n"
     ]
    },
    {
     "name": "stderr",
     "output_type": "stream",
     "text": [
      "Computing batch statistics: 100%|██████████| 525/525 [11:12<00:00,  1.28s/it]\n",
      "Computing AP: 100%|██████████| 10/10 [00:10<00:00,  1.05s/it]"
     ]
    },
    {
     "name": "stdout",
     "output_type": "stream",
     "text": [
      "Average Precisions:\n",
      "+ Class '0' (bike) - AP: 0.033861118178122755\n",
      "+ Class '1' (bus) - AP: 0.011264576174122323\n",
      "+ Class '2' (car) - AP: 0.3238578817160365\n",
      "+ Class '3' (motor) - AP: 0.0015138672410120704\n",
      "+ Class '4' (person) - AP: 0.11263276420457045\n",
      "+ Class '5' (rider) - AP: 0.02339868398053974\n",
      "+ Class '6' (traffic light) - AP: 0.1620196111433122\n",
      "+ Class '7' (traffic sign) - AP: 0.0989843973755628\n",
      "+ Class '8' (train) - AP: 0.0\n",
      "+ Class '9' (truck) - AP: 0.12322838976426867\n",
      "mAP: 0.08907612897775476\n"
     ]
    },
    {
     "name": "stderr",
     "output_type": "stream",
     "text": [
      "\n"
     ]
    }
   ],
   "source": [
    "evaluate_test('results/test-conf=0.001-FGSM-loss=all-eps=2-ckpt=YOLOv3-Normal-random_noise-epochs=50-batch=4-img_size=608-multi_scale=True-ckpt_14.pth',\n",
    "             detect_mode=False,\n",
    "             conf_thres_retina=None)"
   ]
  },
  {
   "cell_type": "code",
   "execution_count": 3,
   "metadata": {},
   "outputs": [
    {
     "name": "stdout",
     "output_type": "stream",
     "text": [
      "Namespace(alpha=0.5, attack_type='FGSM', class_path='data/classes.names', conf=0.001, data_config='code/YOLOv3/config/custom.data', dist_type='l2', eps=2, img_size=608, iterations=10, loss_type='all', model_def='code/YOLOv3/config/yolov3-custom.cfg', n_cpu=8, nms_thres=0.5, prediction_mode='activations', sign_grad=False, weights_path='checkpoints_backup/YOLOv3/IRL-FGSM-epochs=50-batch=4-img_size=608-multi_scale=True-eps=2-loss_type=6-irl_alpha=0.5-irl_beta=0.5-irl_gamma=1.0-interval=1-reg_layers=[71]/ckpt_6.pth')\n",
      "Getting activations for distance type: l2 with attack_type:  FGSM and epsilon:  2\n",
      "Getting activations: 100%|██████████████████| 2100/2100 [11:36<00:00,  3.01it/s]\n"
     ]
    }
   ],
   "source": [
    "!python code/YOLOv3/predict.py --weights_path \"checkpoints_backup/YOLOv3/IRL-FGSM-epochs=50-batch=4-img_size=608-multi_scale=True-eps=2-loss_type=6-irl_alpha=0.5-irl_beta=0.5-irl_gamma=1.0-interval=1-reg_layers=[71]/ckpt_6.pth\" \\\n",
    "--prediction_mode activations \\\n",
    "--attack_type FGSM \\\n",
    "--loss_type all \\\n",
    "--eps 2 \\\n",
    "--conf 0.001"
   ]
  },
  {
   "cell_type": "code",
   "execution_count": null,
   "metadata": {},
   "outputs": [],
   "source": [
    "!python code/shared/plots/plot_layerdist_copy.py"
   ]
  },
  {
   "cell_type": "code",
   "execution_count": 6,
   "metadata": {},
   "outputs": [
    {
     "name": "stdout",
     "output_type": "stream",
     "text": [
      "\n",
      "Saving images:\n",
      "(0) Image: 'results/detect-PGD-loss=all-eps=2-alpha=0.5-iter=10-sign_grad=False-ckpt=YOLOv3-Adversarial-FGSM-epochs=50-batch=4-img_size=608-multi_scale=True-eps=2-mix_thres=0.5-ckpt_26.pth/0000f77c-6257be58.png'\n",
      "\t+ Label: car, Conf: 0.99748\n",
      "\t+ Label: traffic sign, Conf: 0.99519\n",
      "\t+ Label: traffic sign, Conf: 0.98934\n",
      "\t+ Label: traffic light, Conf: 0.98701\n",
      "\t+ Label: traffic light, Conf: 0.99708\n",
      "\t+ Label: car, Conf: 0.85466\n",
      "\t+ Label: traffic sign, Conf: 0.96223\n",
      "results/detect-PGD-loss=all-eps=2-alpha=0.5-iter=10-sign_grad=False-ckpt=YOLOv3-Adversarial-FGSM-epochs=50-batch=4-img_size=608-multi_scale=True-eps=2-mix_thres=0.5-ckpt_26.pth/0000f77c-6257be58_bbx.jpg\n",
      "(1) Image: 'results/detect-PGD-loss=all-eps=2-alpha=0.5-iter=10-sign_grad=False-ckpt=YOLOv3-Adversarial-FGSM-epochs=50-batch=4-img_size=608-multi_scale=True-eps=2-mix_thres=0.5-ckpt_26.pth/0000f77c-62c2a288.png'\n",
      "\t+ Label: traffic sign, Conf: 0.96213\n",
      "\t+ Label: car, Conf: 0.98355\n",
      "\t+ Label: car, Conf: 0.97494\n",
      "\t+ Label: traffic sign, Conf: 0.98551\n",
      "\t+ Label: car, Conf: 0.79327\n",
      "results/detect-PGD-loss=all-eps=2-alpha=0.5-iter=10-sign_grad=False-ckpt=YOLOv3-Adversarial-FGSM-epochs=50-batch=4-img_size=608-multi_scale=True-eps=2-mix_thres=0.5-ckpt_26.pth/0000f77c-62c2a288_bbx.jpg\n",
      "(2) Image: 'results/detect-PGD-loss=all-eps=2-alpha=0.5-iter=10-sign_grad=False-ckpt=YOLOv3-Adversarial-FGSM-epochs=50-batch=4-img_size=608-multi_scale=True-eps=2-mix_thres=0.5-ckpt_26.pth/0000f77c-cb820c98.png'\n",
      "\t+ Label: car, Conf: 0.99597\n",
      "\t+ Label: car, Conf: 0.97446\n",
      "\t+ Label: traffic sign, Conf: 0.99704\n",
      "\t+ Label: car, Conf: 0.98612\n",
      "\t+ Label: car, Conf: 0.99149\n",
      "\t+ Label: car, Conf: 0.97652\n",
      "\t+ Label: car, Conf: 0.97791\n",
      "\t+ Label: car, Conf: 0.98964\n",
      "\t+ Label: car, Conf: 0.99735\n",
      "\t+ Label: car, Conf: 0.95809\n",
      "\t+ Label: car, Conf: 0.97801\n",
      "\t+ Label: car, Conf: 0.97033\n",
      "\t+ Label: car, Conf: 0.95208\n",
      "\t+ Label: truck, Conf: 0.83372\n",
      "results/detect-PGD-loss=all-eps=2-alpha=0.5-iter=10-sign_grad=False-ckpt=YOLOv3-Adversarial-FGSM-epochs=50-batch=4-img_size=608-multi_scale=True-eps=2-mix_thres=0.5-ckpt_26.pth/0000f77c-cb820c98_bbx.jpg\n",
      "(3) Image: 'results/detect-PGD-loss=all-eps=2-alpha=0.5-iter=10-sign_grad=False-ckpt=YOLOv3-Adversarial-FGSM-epochs=50-batch=4-img_size=608-multi_scale=True-eps=2-mix_thres=0.5-ckpt_26.pth/0001542f-5ce3cf52.png'\n",
      "\t+ Label: car, Conf: 0.99612\n",
      "\t+ Label: car, Conf: 0.99245\n",
      "\t+ Label: car, Conf: 0.99767\n",
      "\t+ Label: car, Conf: 0.99856\n",
      "\t+ Label: car, Conf: 0.99244\n",
      "\t+ Label: car, Conf: 0.96859\n",
      "\t+ Label: car, Conf: 0.99664\n",
      "\t+ Label: car, Conf: 0.95645\n",
      "\t+ Label: car, Conf: 0.99654\n",
      "\t+ Label: car, Conf: 0.99509\n",
      "\t+ Label: car, Conf: 0.89666\n",
      "\t+ Label: car, Conf: 0.99709\n",
      "\t+ Label: car, Conf: 0.98341\n",
      "\t+ Label: car, Conf: 0.95327\n",
      "\t+ Label: traffic light, Conf: 0.80722\n",
      "\t+ Label: traffic light, Conf: 0.77946\n",
      "\t+ Label: car, Conf: 0.82937\n",
      "\t+ Label: car, Conf: 0.69901\n",
      "\t+ Label: traffic light, Conf: 0.68639\n",
      "\t+ Label: traffic sign, Conf: 0.65720\n",
      "\t+ Label: traffic light, Conf: 0.65905\n",
      "\t+ Label: car, Conf: 0.60125\n",
      "results/detect-PGD-loss=all-eps=2-alpha=0.5-iter=10-sign_grad=False-ckpt=YOLOv3-Adversarial-FGSM-epochs=50-batch=4-img_size=608-multi_scale=True-eps=2-mix_thres=0.5-ckpt_26.pth/0001542f-5ce3cf52_bbx.jpg\n",
      "(4) Image: 'results/detect-PGD-loss=all-eps=2-alpha=0.5-iter=10-sign_grad=False-ckpt=YOLOv3-Adversarial-FGSM-epochs=50-batch=4-img_size=608-multi_scale=True-eps=2-mix_thres=0.5-ckpt_26.pth/0001542f-7c670be8.png'\n",
      "\t+ Label: car, Conf: 0.99648\n",
      "\t+ Label: car, Conf: 0.97698\n",
      "\t+ Label: car, Conf: 0.98186\n",
      "\t+ Label: car, Conf: 0.97094\n",
      "\t+ Label: car, Conf: 0.96671\n",
      "\t+ Label: car, Conf: 0.99750\n",
      "\t+ Label: car, Conf: 0.98816\n",
      "\t+ Label: car, Conf: 0.95066\n",
      "results/detect-PGD-loss=all-eps=2-alpha=0.5-iter=10-sign_grad=False-ckpt=YOLOv3-Adversarial-FGSM-epochs=50-batch=4-img_size=608-multi_scale=True-eps=2-mix_thres=0.5-ckpt_26.pth/0001542f-7c670be8_bbx.jpg\n",
      "(5) Image: 'results/detect-PGD-loss=all-eps=2-alpha=0.5-iter=10-sign_grad=False-ckpt=YOLOv3-Adversarial-FGSM-epochs=50-batch=4-img_size=608-multi_scale=True-eps=2-mix_thres=0.5-ckpt_26.pth/0001542f-ec815219.png'\n",
      "\t+ Label: traffic light, Conf: 0.99670\n",
      "\t+ Label: traffic light, Conf: 0.97969\n",
      "\t+ Label: car, Conf: 0.93371\n",
      "\t+ Label: car, Conf: 0.98692\n",
      "\t+ Label: traffic light, Conf: 0.93386\n",
      "\t+ Label: car, Conf: 0.99083\n",
      "\t+ Label: traffic light, Conf: 0.93049\n",
      "\t+ Label: car, Conf: 0.98755\n",
      "\t+ Label: car, Conf: 0.98882\n",
      "\t+ Label: car, Conf: 0.99470\n",
      "\t+ Label: car, Conf: 0.93683\n",
      "\t+ Label: car, Conf: 0.97860\n",
      "\t+ Label: traffic sign, Conf: 0.98438\n",
      "\t+ Label: car, Conf: 0.98648\n",
      "\t+ Label: traffic light, Conf: 0.89443\n",
      "\t+ Label: car, Conf: 0.95234\n",
      "\t+ Label: traffic sign, Conf: 0.99657\n",
      "\t+ Label: traffic sign, Conf: 0.84218\n",
      "\t+ Label: car, Conf: 0.90054\n",
      "\t+ Label: car, Conf: 0.68849\n",
      "\t+ Label: traffic light, Conf: 0.67251\n",
      "results/detect-PGD-loss=all-eps=2-alpha=0.5-iter=10-sign_grad=False-ckpt=YOLOv3-Adversarial-FGSM-epochs=50-batch=4-img_size=608-multi_scale=True-eps=2-mix_thres=0.5-ckpt_26.pth/0001542f-ec815219_bbx.jpg\n"
     ]
    },
    {
     "name": "stderr",
     "output_type": "stream",
     "text": [
      "code/shared/evaluate/datasets.py:25: UserWarning: loadtxt: Empty input file: \"results/detect-PGD-loss=all-eps=2-alpha=0.5-iter=10-sign_grad=False-ckpt=YOLOv3-Adversarial-FGSM-epochs=50-batch=4-img_size=608-multi_scale=True-eps=2-mix_thres=0.5-ckpt_26.pth/0004974f-05e1c285.txt\"\n",
      "  predictions = torch.from_numpy(np.loadtxt(label_path).astype(np.float32)).view(-1, 7)\n"
     ]
    },
    {
     "name": "stdout",
     "output_type": "stream",
     "text": [
      "(6) Image: 'results/detect-PGD-loss=all-eps=2-alpha=0.5-iter=10-sign_grad=False-ckpt=YOLOv3-Adversarial-FGSM-epochs=50-batch=4-img_size=608-multi_scale=True-eps=2-mix_thres=0.5-ckpt_26.pth/0004974f-05e1c285.png'\n",
      "results/detect-PGD-loss=all-eps=2-alpha=0.5-iter=10-sign_grad=False-ckpt=YOLOv3-Adversarial-FGSM-epochs=50-batch=4-img_size=608-multi_scale=True-eps=2-mix_thres=0.5-ckpt_26.pth/0004974f-05e1c285_bbx.jpg\n",
      "(7) Image: 'results/detect-PGD-loss=all-eps=2-alpha=0.5-iter=10-sign_grad=False-ckpt=YOLOv3-Adversarial-FGSM-epochs=50-batch=4-img_size=608-multi_scale=True-eps=2-mix_thres=0.5-ckpt_26.pth/00054602-3bf57337.png'\n",
      "\t+ Label: car, Conf: 0.99972\n",
      "\t+ Label: car, Conf: 0.99750\n",
      "\t+ Label: car, Conf: 0.99648\n",
      "\t+ Label: car, Conf: 0.99702\n",
      "\t+ Label: car, Conf: 0.99738\n",
      "\t+ Label: traffic sign, Conf: 0.99751\n",
      "\t+ Label: traffic sign, Conf: 0.99802\n",
      "results/detect-PGD-loss=all-eps=2-alpha=0.5-iter=10-sign_grad=False-ckpt=YOLOv3-Adversarial-FGSM-epochs=50-batch=4-img_size=608-multi_scale=True-eps=2-mix_thres=0.5-ckpt_26.pth/00054602-3bf57337_bbx.jpg\n",
      "(8) Image: 'results/detect-PGD-loss=all-eps=2-alpha=0.5-iter=10-sign_grad=False-ckpt=YOLOv3-Adversarial-FGSM-epochs=50-batch=4-img_size=608-multi_scale=True-eps=2-mix_thres=0.5-ckpt_26.pth/00067cfb-5443fe39.png'\n",
      "\t+ Label: car, Conf: 0.99870\n",
      "\t+ Label: car, Conf: 0.99821\n",
      "\t+ Label: car, Conf: 0.99880\n",
      "\t+ Label: car, Conf: 0.99877\n",
      "\t+ Label: traffic sign, Conf: 0.99539\n",
      "\t+ Label: person, Conf: 0.99786\n",
      "\t+ Label: car, Conf: 0.98476\n",
      "\t+ Label: car, Conf: 0.99563\n",
      "\t+ Label: car, Conf: 0.99444\n",
      "\t+ Label: car, Conf: 0.98126\n",
      "\t+ Label: car, Conf: 0.98573\n",
      "\t+ Label: car, Conf: 0.98624\n",
      "\t+ Label: traffic light, Conf: 0.97171\n",
      "\t+ Label: car, Conf: 0.98229\n",
      "\t+ Label: car, Conf: 0.97698\n",
      "\t+ Label: traffic sign, Conf: 0.95339\n",
      "\t+ Label: car, Conf: 0.99185\n",
      "\t+ Label: car, Conf: 0.98918\n",
      "\t+ Label: traffic light, Conf: 0.97645\n",
      "\t+ Label: car, Conf: 0.98880\n",
      "\t+ Label: car, Conf: 0.97609\n",
      "\t+ Label: traffic light, Conf: 0.95400\n",
      "\t+ Label: traffic sign, Conf: 0.91461\n",
      "\t+ Label: car, Conf: 0.94635\n",
      "\t+ Label: car, Conf: 0.97979\n",
      "\t+ Label: traffic light, Conf: 0.84563\n",
      "\t+ Label: car, Conf: 0.88070\n",
      "\t+ Label: traffic sign, Conf: 0.69264\n",
      "results/detect-PGD-loss=all-eps=2-alpha=0.5-iter=10-sign_grad=False-ckpt=YOLOv3-Adversarial-FGSM-epochs=50-batch=4-img_size=608-multi_scale=True-eps=2-mix_thres=0.5-ckpt_26.pth/00067cfb-5443fe39_bbx.jpg\n",
      "(9) Image: 'results/detect-PGD-loss=all-eps=2-alpha=0.5-iter=10-sign_grad=False-ckpt=YOLOv3-Adversarial-FGSM-epochs=50-batch=4-img_size=608-multi_scale=True-eps=2-mix_thres=0.5-ckpt_26.pth/00067cfb-5adfaaa7.png'\n",
      "\t+ Label: car, Conf: 0.99726\n",
      "\t+ Label: traffic sign, Conf: 0.99974\n",
      "\t+ Label: traffic sign, Conf: 0.99675\n",
      "\t+ Label: traffic sign, Conf: 0.99496\n",
      "\t+ Label: traffic sign, Conf: 0.99595\n",
      "\t+ Label: traffic sign, Conf: 0.99911\n",
      "\t+ Label: car, Conf: 0.98038\n",
      "\t+ Label: car, Conf: 0.96574\n",
      "\t+ Label: car, Conf: 0.98309\n",
      "\t+ Label: traffic sign, Conf: 0.99602\n",
      "\t+ Label: car, Conf: 0.99409\n",
      "results/detect-PGD-loss=all-eps=2-alpha=0.5-iter=10-sign_grad=False-ckpt=YOLOv3-Adversarial-FGSM-epochs=50-batch=4-img_size=608-multi_scale=True-eps=2-mix_thres=0.5-ckpt_26.pth/00067cfb-5adfaaa7_bbx.jpg\n",
      "(10) Image: 'results/detect-PGD-loss=all-eps=2-alpha=0.5-iter=10-sign_grad=False-ckpt=YOLOv3-Adversarial-FGSM-epochs=50-batch=4-img_size=608-multi_scale=True-eps=2-mix_thres=0.5-ckpt_26.pth/0ed0d326-f3689a47.png'\n",
      "\t+ Label: car, Conf: 0.99864\n",
      "\t+ Label: car, Conf: 0.99869\n",
      "\t+ Label: car, Conf: 0.99615\n",
      "\t+ Label: car, Conf: 0.99549\n",
      "\t+ Label: car, Conf: 0.99436\n",
      "\t+ Label: traffic sign, Conf: 0.99698\n",
      "\t+ Label: car, Conf: 0.97927\n",
      "\t+ Label: car, Conf: 0.99024\n",
      "\t+ Label: car, Conf: 0.96481\n",
      "\t+ Label: traffic sign, Conf: 0.99646\n",
      "\t+ Label: car, Conf: 0.99476\n",
      "\t+ Label: car, Conf: 0.97513\n",
      "\t+ Label: car, Conf: 0.91135\n",
      "\t+ Label: car, Conf: 0.92297\n",
      "\t+ Label: car, Conf: 0.97993\n",
      "\t+ Label: car, Conf: 0.88971\n",
      "\t+ Label: car, Conf: 0.88537\n",
      "\t+ Label: traffic light, Conf: 0.74657\n",
      "\t+ Label: car, Conf: 0.68174\n",
      "results/detect-PGD-loss=all-eps=2-alpha=0.5-iter=10-sign_grad=False-ckpt=YOLOv3-Adversarial-FGSM-epochs=50-batch=4-img_size=608-multi_scale=True-eps=2-mix_thres=0.5-ckpt_26.pth/0ed0d326-f3689a47_bbx.jpg\n",
      "(11) Image: 'results/detect-PGD-loss=all-eps=2-alpha=0.5-iter=10-sign_grad=False-ckpt=YOLOv3-Adversarial-FGSM-epochs=50-batch=4-img_size=608-multi_scale=True-eps=2-mix_thres=0.5-ckpt_26.pth/1b2bbaec-93e98a2a.png'\n",
      "\t+ Label: car, Conf: 0.87666\n",
      "results/detect-PGD-loss=all-eps=2-alpha=0.5-iter=10-sign_grad=False-ckpt=YOLOv3-Adversarial-FGSM-epochs=50-batch=4-img_size=608-multi_scale=True-eps=2-mix_thres=0.5-ckpt_26.pth/1b2bbaec-93e98a2a_bbx.jpg\n",
      "(12) Image: 'results/detect-PGD-loss=all-eps=2-alpha=0.5-iter=10-sign_grad=False-ckpt=YOLOv3-Adversarial-FGSM-epochs=50-batch=4-img_size=608-multi_scale=True-eps=2-mix_thres=0.5-ckpt_26.pth/5f12d91c-e52fcb42.png'\n",
      "\t+ Label: car, Conf: 0.99834\n",
      "\t+ Label: car, Conf: 0.99735\n",
      "\t+ Label: traffic sign, Conf: 0.99319\n",
      "\t+ Label: car, Conf: 0.98951\n",
      "\t+ Label: car, Conf: 0.99314\n",
      "\t+ Label: car, Conf: 0.98894\n",
      "\t+ Label: car, Conf: 0.98769\n",
      "\t+ Label: car, Conf: 0.96855\n",
      "\t+ Label: traffic sign, Conf: 0.96873\n",
      "\t+ Label: car, Conf: 0.97858\n",
      "\t+ Label: car, Conf: 0.96478\n",
      "\t+ Label: traffic sign, Conf: 0.99765\n",
      "\t+ Label: traffic sign, Conf: 0.99638\n",
      "\t+ Label: traffic sign, Conf: 0.99294\n",
      "\t+ Label: car, Conf: 0.99271\n",
      "\t+ Label: traffic sign, Conf: 0.99472\n",
      "\t+ Label: car, Conf: 0.99166\n",
      "\t+ Label: car, Conf: 0.96149\n",
      "\t+ Label: car, Conf: 0.64378\n",
      "results/detect-PGD-loss=all-eps=2-alpha=0.5-iter=10-sign_grad=False-ckpt=YOLOv3-Adversarial-FGSM-epochs=50-batch=4-img_size=608-multi_scale=True-eps=2-mix_thres=0.5-ckpt_26.pth/5f12d91c-e52fcb42_bbx.jpg\n",
      "(13) Image: 'results/detect-PGD-loss=all-eps=2-alpha=0.5-iter=10-sign_grad=False-ckpt=YOLOv3-Adversarial-FGSM-epochs=50-batch=4-img_size=608-multi_scale=True-eps=2-mix_thres=0.5-ckpt_26.pth/65444c3e-bb302b85.png'\n",
      "\t+ Label: car, Conf: 0.99913\n",
      "\t+ Label: car, Conf: 0.99605\n",
      "\t+ Label: car, Conf: 0.99310\n",
      "\t+ Label: car, Conf: 0.99806\n",
      "\t+ Label: car, Conf: 0.98749\n",
      "\t+ Label: car, Conf: 0.99450\n",
      "\t+ Label: car, Conf: 0.98223\n",
      "\t+ Label: car, Conf: 0.97201\n",
      "\t+ Label: traffic light, Conf: 0.99061\n",
      "\t+ Label: car, Conf: 0.95570\n",
      "\t+ Label: traffic light, Conf: 0.99250\n",
      "\t+ Label: car, Conf: 0.97894\n",
      "\t+ Label: truck, Conf: 0.97397\n",
      "\t+ Label: traffic light, Conf: 0.97506\n",
      "\t+ Label: traffic light, Conf: 0.98649\n",
      "\t+ Label: car, Conf: 0.96224\n",
      "\t+ Label: car, Conf: 0.99586\n",
      "\t+ Label: car, Conf: 0.98598\n",
      "\t+ Label: traffic light, Conf: 0.97406\n",
      "\t+ Label: traffic sign, Conf: 0.99680\n",
      "\t+ Label: car, Conf: 0.99784\n",
      "\t+ Label: car, Conf: 0.96023\n",
      "\t+ Label: car, Conf: 0.94043\n",
      "\t+ Label: traffic light, Conf: 0.87270\n",
      "\t+ Label: bus, Conf: 0.46683\n",
      "results/detect-PGD-loss=all-eps=2-alpha=0.5-iter=10-sign_grad=False-ckpt=YOLOv3-Adversarial-FGSM-epochs=50-batch=4-img_size=608-multi_scale=True-eps=2-mix_thres=0.5-ckpt_26.pth/65444c3e-bb302b85_bbx.jpg\n",
      "(14) Image: 'results/detect-PGD-loss=all-eps=2-alpha=0.5-iter=10-sign_grad=False-ckpt=YOLOv3-Adversarial-FGSM-epochs=50-batch=4-img_size=608-multi_scale=True-eps=2-mix_thres=0.5-ckpt_26.pth/9a4a4239-5de2e82e.png'\n",
      "\t+ Label: traffic light, Conf: 0.99847\n",
      "\t+ Label: traffic light, Conf: 0.99842\n",
      "\t+ Label: traffic light, Conf: 0.99065\n",
      "\t+ Label: car, Conf: 0.97026\n",
      "\t+ Label: car, Conf: 0.97332\n",
      "\t+ Label: car, Conf: 0.96327\n",
      "\t+ Label: traffic sign, Conf: 0.98240\n",
      "\t+ Label: car, Conf: 0.95691\n",
      "\t+ Label: car, Conf: 0.99197\n",
      "\t+ Label: traffic light, Conf: 0.98873\n",
      "\t+ Label: traffic light, Conf: 0.98535\n",
      "\t+ Label: traffic light, Conf: 0.98006\n",
      "\t+ Label: car, Conf: 0.97908\n",
      "\t+ Label: person, Conf: 0.99042\n",
      "\t+ Label: car, Conf: 0.89492\n",
      "\t+ Label: car, Conf: 0.83933\n",
      "\t+ Label: truck, Conf: 0.72752\n",
      "\t+ Label: car, Conf: 0.80482\n",
      "results/detect-PGD-loss=all-eps=2-alpha=0.5-iter=10-sign_grad=False-ckpt=YOLOv3-Adversarial-FGSM-epochs=50-batch=4-img_size=608-multi_scale=True-eps=2-mix_thres=0.5-ckpt_26.pth/9a4a4239-5de2e82e_bbx.jpg\n",
      "(15) Image: 'results/detect-PGD-loss=all-eps=2-alpha=0.5-iter=10-sign_grad=False-ckpt=YOLOv3-Adversarial-FGSM-epochs=50-batch=4-img_size=608-multi_scale=True-eps=2-mix_thres=0.5-ckpt_26.pth/c02d18db-023c1955.png'\n",
      "\t+ Label: car, Conf: 0.99987\n",
      "\t+ Label: car, Conf: 0.99961\n",
      "\t+ Label: car, Conf: 0.99939\n",
      "\t+ Label: car, Conf: 0.99922\n",
      "\t+ Label: car, Conf: 0.99932\n",
      "\t+ Label: car, Conf: 0.99797\n",
      "\t+ Label: car, Conf: 0.99700\n",
      "\t+ Label: car, Conf: 0.99769\n",
      "\t+ Label: car, Conf: 0.99689\n",
      "\t+ Label: car, Conf: 0.99459\n",
      "\t+ Label: car, Conf: 0.99867\n",
      "\t+ Label: car, Conf: 0.99616\n",
      "\t+ Label: car, Conf: 0.99644\n",
      "\t+ Label: car, Conf: 0.98284\n",
      "\t+ Label: car, Conf: 0.99141\n",
      "\t+ Label: car, Conf: 0.98999\n",
      "\t+ Label: car, Conf: 0.98705\n",
      "\t+ Label: car, Conf: 0.98673\n",
      "\t+ Label: car, Conf: 0.92281\n",
      "\t+ Label: traffic sign, Conf: 0.97356\n",
      "\t+ Label: car, Conf: 0.99761\n",
      "\t+ Label: traffic sign, Conf: 0.86745\n",
      "\t+ Label: car, Conf: 0.99413\n",
      "results/detect-PGD-loss=all-eps=2-alpha=0.5-iter=10-sign_grad=False-ckpt=YOLOv3-Adversarial-FGSM-epochs=50-batch=4-img_size=608-multi_scale=True-eps=2-mix_thres=0.5-ckpt_26.pth/c02d18db-023c1955_bbx.jpg\n"
     ]
    },
    {
     "data": {
      "text/plain": [
       "<Figure size 432x288 with 0 Axes>"
      ]
     },
     "metadata": {},
     "output_type": "display_data"
    },
    {
     "data": {
      "text/plain": [
       "<Figure size 432x288 with 0 Axes>"
      ]
     },
     "metadata": {},
     "output_type": "display_data"
    },
    {
     "data": {
      "text/plain": [
       "<Figure size 432x288 with 0 Axes>"
      ]
     },
     "metadata": {},
     "output_type": "display_data"
    },
    {
     "data": {
      "text/plain": [
       "<Figure size 432x288 with 0 Axes>"
      ]
     },
     "metadata": {},
     "output_type": "display_data"
    },
    {
     "data": {
      "text/plain": [
       "<Figure size 432x288 with 0 Axes>"
      ]
     },
     "metadata": {},
     "output_type": "display_data"
    },
    {
     "data": {
      "text/plain": [
       "<Figure size 432x288 with 0 Axes>"
      ]
     },
     "metadata": {},
     "output_type": "display_data"
    },
    {
     "data": {
      "text/plain": [
       "<Figure size 432x288 with 0 Axes>"
      ]
     },
     "metadata": {},
     "output_type": "display_data"
    },
    {
     "data": {
      "text/plain": [
       "<Figure size 432x288 with 0 Axes>"
      ]
     },
     "metadata": {},
     "output_type": "display_data"
    },
    {
     "data": {
      "text/plain": [
       "<Figure size 432x288 with 0 Axes>"
      ]
     },
     "metadata": {},
     "output_type": "display_data"
    },
    {
     "data": {
      "text/plain": [
       "<Figure size 432x288 with 0 Axes>"
      ]
     },
     "metadata": {},
     "output_type": "display_data"
    },
    {
     "data": {
      "text/plain": [
       "<Figure size 432x288 with 0 Axes>"
      ]
     },
     "metadata": {},
     "output_type": "display_data"
    },
    {
     "data": {
      "text/plain": [
       "<Figure size 432x288 with 0 Axes>"
      ]
     },
     "metadata": {},
     "output_type": "display_data"
    },
    {
     "data": {
      "text/plain": [
       "<Figure size 432x288 with 0 Axes>"
      ]
     },
     "metadata": {},
     "output_type": "display_data"
    },
    {
     "data": {
      "text/plain": [
       "<Figure size 432x288 with 0 Axes>"
      ]
     },
     "metadata": {},
     "output_type": "display_data"
    },
    {
     "data": {
      "text/plain": [
       "<Figure size 432x288 with 0 Axes>"
      ]
     },
     "metadata": {},
     "output_type": "display_data"
    },
    {
     "data": {
      "text/plain": [
       "<Figure size 432x288 with 0 Axes>"
      ]
     },
     "metadata": {},
     "output_type": "display_data"
    }
   ],
   "source": [
    "print_detections('results/detect-PGD-loss=all-eps=2-alpha=0.5-iter=10-sign_grad=False-ckpt=YOLOv3-Adversarial-FGSM-epochs=50-batch=4-img_size=608-multi_scale=True-eps=2-mix_thres=0.5-ckpt_26.pth')"
   ]
  },
  {
   "cell_type": "code",
   "execution_count": null,
   "metadata": {},
   "outputs": [],
   "source": []
  }
 ],
 "metadata": {
  "kernelspec": {
   "display_name": "Python 3",
   "language": "python",
   "name": "python3"
  },
  "language_info": {
   "codemirror_mode": {
    "name": "ipython",
    "version": 3
   },
   "file_extension": ".py",
   "mimetype": "text/x-python",
   "name": "python",
   "nbconvert_exporter": "python",
   "pygments_lexer": "ipython3",
   "version": "3.7.7"
  }
 },
 "nbformat": 4,
 "nbformat_minor": 4
}
